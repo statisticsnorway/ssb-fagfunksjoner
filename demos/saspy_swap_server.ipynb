{
 "cells": [
  {
   "cell_type": "code",
   "execution_count": null,
   "id": "87393030-4838-44a2-8016-22955b350a29",
   "metadata": {
    "tags": []
   },
   "outputs": [],
   "source": [
    "from fagfunksjoner.prodsone import saspy_ssb\n",
    "\n",
    "saspy_ssb.swap_server(2)"
   ]
  },
  {
   "cell_type": "code",
   "execution_count": null,
   "id": "92e07168-8428-49d8-92cf-aa471d77a511",
   "metadata": {
    "tags": []
   },
   "outputs": [],
   "source": [
    "saspy_ssb.saspy_session()"
   ]
  },
  {
   "cell_type": "code",
   "execution_count": null,
   "id": "43485eac-a22a-43be-a29a-0db85c0223fc",
   "metadata": {},
   "outputs": [],
   "source": []
  }
 ],
 "metadata": {
  "language_info": {
   "codemirror_mode": {
    "name": "ipython"
   },
   "file_extension": ".py",
   "mimetype": "text/x-python",
   "name": "python",
   "nbconvert_exporter": "python"
  }
 },
 "nbformat": 4,
 "nbformat_minor": 5
}
