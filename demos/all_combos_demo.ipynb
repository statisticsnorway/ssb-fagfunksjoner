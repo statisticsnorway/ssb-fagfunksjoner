{
 "cells": [
  {
   "cell_type": "code",
   "execution_count": null,
   "id": "0",
   "metadata": {
    "tags": []
   },
   "outputs": [],
   "source": [
    "import os\n",
    "os.chdir(\"../\")\n",
    "from fagfunksjoner import all_combos_agg"
   ]
  },
  {
   "cell_type": "code",
   "execution_count": null,
   "id": "1",
   "metadata": {},
   "outputs": [],
   "source": [
    "import pandas as pd\n",
    "data = {\n",
    "                'alder': [20, 60, 33, 33, 20],\n",
    "                'kommune': ['0301', '3001', '0301', '5401', '0301'],\n",
    "                'kjonn': ['1', '2', '1', '2', '2'],\n",
    "                'inntekt': [1000000, 120000, 220000, 550000, 50000],\n",
    "                'formue': [25000, 50000, 33000, 44000, 90000]\n",
    "    }\n",
    "pers = pd.DataFrame(data)\n",
    "\n",
    "agg1 = all_combos_agg(pers, groupcols=['kjonn'], keep_empty=True, aggargs={'inntekt':['mean', 'sum']})\n",
    "display(agg1)\n",
    "\n",
    "agg2 = all_combos_agg(pers, groupcols=['kjonn', 'alder'], aggargs={'inntekt':['mean', 'sum']})\n",
    "display(agg2)"
   ]
  },
  {
   "cell_type": "code",
   "execution_count": null,
   "id": "2",
   "metadata": {},
   "outputs": [],
   "source": [
    "agg3 = all_combos_agg(pers, groupcols=['kjonn', 'alder'],\n",
    "                      grand_total='Grand total',\n",
    "                      aggargs={'inntekt':['mean', 'sum'], 'formue':['sum']})\n",
    "display(agg3)"
   ]
  },
  {
   "cell_type": "code",
   "execution_count": null,
   "id": "3",
   "metadata": {},
   "outputs": [],
   "source": [
    "fillna_dict={'kjonn': 'Total kjønn', 'alder': 'Total alder'}\n",
    "agg4 = all_combos_agg(pers, groupcols=['kjonn', 'alder'], \n",
    "                       fillna_dict=fillna_dict, \n",
    "                       aggargs={'inntekt':['mean', 'sum'], 'formue': ['count', 'min', 'max']}, \n",
    "                       grand_total=fillna_dict\n",
    "                      )\n",
    "display(agg4)"
   ]
  },
  {
   "cell_type": "code",
   "execution_count": null,
   "id": "4",
   "metadata": {},
   "outputs": [],
   "source": [
    "pers['antall'] = 1\n",
    "groupcols = pers.columns[0:3].tolist()\n",
    "func_dict = {'inntekt':['mean', 'sum'], 'formue': ['sum', 'std', 'count']}\n",
    "fillna_dict = {'kjonn': 'Total kjønn', 'alder': 'Total alder', 'kommune': 'Total kommune'}\n",
    "agg5 = all_combos_agg(pers, groupcols=groupcols, \n",
    "                       aggargs=func_dict,\n",
    "                       fillna_dict=fillna_dict, \n",
    "                       grand_total=\"All\"\n",
    "                      )\n",
    "display(agg5)    "
   ]
  },
  {
   "cell_type": "code",
   "execution_count": null,
   "id": "5",
   "metadata": {
    "tags": []
   },
   "outputs": [],
   "source": [
    "def dataset1():\n",
    "    return pd.DataFrame({\n",
    "        \"sex\" : [\"Mann\", \"Kvinne\", \"Mann\", \"Mann\", \"Kvinne\", \"Mann\"],\n",
    "        \"age\" : [\"40\", \"50\", \"60\", \"50\", \"60\", \"40\"],\n",
    "        \"points\" : [100, 90, 80, 70, 60, 50],\n",
    "    })\n",
    "def test_grand_total():\n",
    "    data_in = dataset1()\n",
    "    result = all_combos_agg(data_in, \n",
    "           [\"sex\", \"age\"],\n",
    "           {\"points\": sum},\n",
    "           fillna_dict={\"sex\": \"Begge kjoenn\", \"age\": \"Alle aldre\"},\n",
    "           keep_empty=True,\n",
    "           grand_total = \"I alt\"\n",
    "              )\n",
    "    assert \"I alt\" in result[\"sex\"].to_list() and \"I alt\" in result[\"age\"].to_list()\n",
    "    assert \"Begge kjoenn\" in result[\"sex\"].to_list() and \"Alle aldre\" in result[\"age\"].to_list()\n",
    "df = test_grand_total()"
   ]
  },
  {
   "cell_type": "code",
   "execution_count": null,
   "id": "6",
   "metadata": {},
   "outputs": [],
   "source": []
  }
 ],
 "metadata": {
  "language_info": {
   "codemirror_mode": {
    "name": "ipython"
   },
   "file_extension": ".py",
   "mimetype": "text/x-python",
   "name": "python",
   "nbconvert_exporter": "python"
  }
 },
 "nbformat": 4,
 "nbformat_minor": 5
}
