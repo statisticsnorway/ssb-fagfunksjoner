{
 "cells": [
  {
   "cell_type": "markdown",
   "id": "0",
   "metadata": {},
   "source": [
    "# view_dataframe\n",
    "This is a demo of the function view_dataframe. view_dataframe views a dataframe in a dynamically way using ipywidgets"
   ]
  },
  {
   "cell_type": "code",
   "execution_count": null,
   "id": "1",
   "metadata": {
    "tags": []
   },
   "outputs": [],
   "source": [
    "import numpy as np\n",
    "import pandas as pd\n",
    "from fagfunksjoner import view_dataframe"
   ]
  },
  {
   "cell_type": "code",
   "execution_count": null,
   "id": "2",
   "metadata": {
    "tags": []
   },
   "outputs": [],
   "source": [
    "import ipywidgets"
   ]
  },
  {
   "cell_type": "code",
   "execution_count": null,
   "id": "3",
   "metadata": {
    "tags": []
   },
   "outputs": [],
   "source": [
    "ipywidgets.interactive()"
   ]
  },
  {
   "cell_type": "markdown",
   "id": "4",
   "metadata": {},
   "source": [
    "## Generate test data\n",
    "Here is a function that generates some test data. We can choose the share of missing values we shall have on the column 'value'"
   ]
  },
  {
   "cell_type": "code",
   "execution_count": null,
   "id": "5",
   "metadata": {
    "tags": []
   },
   "outputs": [],
   "source": [
    "def generate_test_dataframe(num_rows=10, missing_percentage=0.1):\n",
    "    np.random.seed(42324)  # For reproducibility\n",
    "\n",
    "    data = {\n",
    "        'hs': np.random.choice(['03010000', '30019000', '54022711'], size=num_rows),\n",
    "        'value': np.random.choice(list(range(10000, 1000000)), size=num_rows).astype(float),\n",
    "        'weight': np.random.randint(1, 10000, size=num_rows),\n",
    "        'import': np.random.choice([True, False], size=num_rows),\n",
    "    }\n",
    "    \n",
    "    # Introduce missing values in 'value' column\n",
    "    num_missing = int(missing_percentage * num_rows)\n",
    "    indices_to_make_missing = np.random.choice(num_rows, size=num_missing, replace=False)\n",
    "    data['value'][indices_to_make_missing] = None\n",
    "\n",
    "    df = pd.DataFrame(data)\n",
    "\n",
    "    # Add a new column 'price'\n",
    "    df['price'] = df['value'] / df['weight']\n",
    "\n",
    "    return df"
   ]
  },
  {
   "cell_type": "markdown",
   "id": "6",
   "metadata": {},
   "source": [
    "## Generate test data and use the function with comaprison operators\n",
    "First we use the slider to select data. It is used when we choose comparison operators (>,>=, <, <=). The default value for the slider bar is the median of the values."
   ]
  },
  {
   "cell_type": "code",
   "execution_count": null,
   "id": "7",
   "metadata": {
    "tags": []
   },
   "outputs": [],
   "source": [
    "foreign_trade = generate_test_dataframe(50, missing_percentage=0.1)\n",
    "view_dataframe(dataframe=foreign_trade, column='value', operator='>=')"
   ]
  },
  {
   "cell_type": "markdown",
   "id": "8",
   "metadata": {},
   "source": [
    "## Use the function with equality parameters\n",
    "When we use equality operators (==, !=), a multiple dropdown list is used. Now we can select data from this multiple select dropdown menu. If wanted, mark more than one line in the dropdown list by using the *shift* or *ctrl* key when you select values."
   ]
  },
  {
   "cell_type": "code",
   "execution_count": null,
   "id": "9",
   "metadata": {
    "tags": []
   },
   "outputs": [],
   "source": [
    "view_dataframe(dataframe=foreign_trade, column='hs', operator='==')"
   ]
  },
  {
   "cell_type": "markdown",
   "id": "10",
   "metadata": {},
   "source": [
    "## Sort values that is used by the view_dataframe function"
   ]
  },
  {
   "cell_type": "code",
   "execution_count": null,
   "id": "11",
   "metadata": {
    "tags": []
   },
   "outputs": [],
   "source": [
    "view_dataframe(dataframe=foreign_trade.sort_values('price'), column='price', operator='>=')"
   ]
  },
  {
   "cell_type": "markdown",
   "id": "12",
   "metadata": {},
   "source": [
    "## string column with missing values\n",
    "There are always issues when missing values appears. One special situation is when there are missing values in a string column. It is taken care of."
   ]
  },
  {
   "cell_type": "code",
   "execution_count": null,
   "id": "13",
   "metadata": {
    "tags": []
   },
   "outputs": [],
   "source": [
    "foreign_trade['value_o'] = foreign_trade['value'].astype(str)\n",
    "display(foreign_trade.dtypes)\n",
    "view_dataframe(dataframe=foreign_trade, column='value_o', operator='==')"
   ]
  },
  {
   "cell_type": "markdown",
   "id": "14",
   "metadata": {},
   "source": [
    "## Boolean columns are not treated as numeric columns"
   ]
  },
  {
   "cell_type": "code",
   "execution_count": null,
   "id": "15",
   "metadata": {
    "tags": []
   },
   "outputs": [],
   "source": [
    "view_dataframe(dataframe=foreign_trade, column='import', operator='>=')"
   ]
  },
  {
   "cell_type": "code",
   "execution_count": null,
   "id": "16",
   "metadata": {
    "tags": []
   },
   "outputs": [],
   "source": [
    "view_dataframe(dataframe=foreign_trade, column='import', operator='==')"
   ]
  },
  {
   "cell_type": "markdown",
   "id": "17",
   "metadata": {},
   "source": [
    "## The unique_limit parameter\n",
    "If we have more than 100 different values to use with the equality operators, we get an error message. We can change the limit, however we should not use the equality operators on columns with very many unique values"
   ]
  },
  {
   "cell_type": "code",
   "execution_count": null,
   "id": "18",
   "metadata": {
    "tags": []
   },
   "outputs": [],
   "source": [
    "view_dataframe(dataframe=foreign_trade, column='value_o', operator='==', unique_limit=1000)"
   ]
  },
  {
   "cell_type": "code",
   "execution_count": null,
   "id": "19",
   "metadata": {},
   "outputs": [],
   "source": []
  }
 ],
 "metadata": {
  "language_info": {
   "codemirror_mode": {
    "name": "ipython"
   },
   "file_extension": ".py",
   "mimetype": "text/x-python",
   "name": "python",
   "nbconvert_exporter": "python"
  }
 },
 "nbformat": 4,
 "nbformat_minor": 5
}
