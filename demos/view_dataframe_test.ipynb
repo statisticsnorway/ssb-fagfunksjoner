{
 "cells": [
  {
   "cell_type": "markdown",
   "id": "34ad89a2-dbdf-4132-a022-7e7f46c4f270",
   "metadata": {},
   "source": [
    "# view_dataframe\n",
    "This is a demo of the function view_dataframe. view_dataframe views a dataframe in a dynamically way using ipywidgets"
   ]
  },
  {
   "cell_type": "code",
   "execution_count": null,
   "id": "db767003-6423-48ed-845e-e955690b38ca",
   "metadata": {
    "tags": []
   },
   "outputs": [],
   "source": [
    "import numpy as np\n",
    "import pandas as pd\n",
    "from fagfunksjoner import view_dataframe"
   ]
  },
  {
   "cell_type": "markdown",
   "id": "9158fb70-ab2c-4e68-902a-c088d1a84839",
   "metadata": {},
   "source": [
    "## Generate test data\n",
    "Here is a function that generates some test data. We can choose the share of missing values we shall have on the column 'value'"
   ]
  },
  {
   "cell_type": "code",
   "execution_count": null,
   "id": "247ca4ab-066e-4672-913d-4a03637c5ed9",
   "metadata": {
    "tags": []
   },
   "outputs": [],
   "source": [
    "def generate_test_dataframe(num_rows=10, missing_percentage=0.1):\n",
    "    np.random.seed(42324)  # For reproducibility\n",
    "\n",
    "    data = {\n",
    "        'hs': np.random.choice(['03010000', '30019000', '54022711'], size=num_rows),\n",
    "        'value': np.random.choice(list(range(10000, 1000000)), size=num_rows).astype(float),\n",
    "        'weight': np.random.randint(1, 10000, size=num_rows),\n",
    "        'import': np.random.choice([True, False], size=num_rows),\n",
    "    }\n",
    "    \n",
    "    # Introduce missing values in 'value' column\n",
    "    num_missing = int(missing_percentage * num_rows)\n",
    "    indices_to_make_missing = np.random.choice(num_rows, size=num_missing, replace=False)\n",
    "    data['value'][indices_to_make_missing] = None\n",
    "\n",
    "    df = pd.DataFrame(data)\n",
    "\n",
    "    # Add a new column 'price'\n",
    "    df['price'] = df['value'] / df['weight']\n",
    "\n",
    "    return df"
   ]
  },
  {
   "cell_type": "markdown",
   "id": "5f20014d-a00d-4829-a10c-feea2b66433c",
   "metadata": {},
   "source": [
    "## Generate test data and use the function with comaprison operators\n",
    "First we use the slider to select data. It is used when we choose comparison operators (>,>=, <, <=). The default value for the slider bar is the median of the values."
   ]
  },
  {
   "cell_type": "code",
   "execution_count": null,
   "id": "5acdce50-4c74-49ad-ac95-43338cf8cbbf",
   "metadata": {
    "tags": []
   },
   "outputs": [],
   "source": [
    "foreign_trade = generate_test_dataframe(50, missing_percentage=0.1)\n",
    "view_dataframe(dataframe=foreign_trade, column='value', operator='>=')"
   ]
  },
  {
   "cell_type": "markdown",
   "id": "81a38bff-660d-4716-a7d9-e5fb2e0d3bc2",
   "metadata": {},
   "source": [
    "## Use the function with equality parameters\n",
    "When we use equality operators (==, !=), a multiple dropdown list is used. Now we can select data from this multiple select dropdown menu. If wanted, mark more than one line in the dropdown list by using the *shift* or *ctrl* key when you select values."
   ]
  },
  {
   "cell_type": "code",
   "execution_count": null,
   "id": "0d86fe96-6103-4a16-9986-38cbae43c079",
   "metadata": {
    "tags": []
   },
   "outputs": [],
   "source": [
    "view_dataframe(dataframe=foreign_trade, column='hs', operator='==')"
   ]
  },
  {
   "cell_type": "markdown",
   "id": "a012ec7e-8b75-428f-b219-8b137c1fc512",
   "metadata": {},
   "source": [
    "## Sort values that is used by the view_dataframe function"
   ]
  },
  {
   "cell_type": "code",
   "execution_count": null,
   "id": "5093dc93-8adc-426c-a4ab-5680990164ed",
   "metadata": {
    "tags": []
   },
   "outputs": [],
   "source": [
    "view_dataframe(dataframe=foreign_trade.sort_values('price'), column='price', operator='>=')"
   ]
  },
  {
   "cell_type": "markdown",
   "id": "27503063-a12c-48a4-a49f-9335c2221fa6",
   "metadata": {},
   "source": [
    "## string column with missing values\n",
    "There are always issues when missing values appears. One special situation is when there are missing values in a string column. It is taken care of."
   ]
  },
  {
   "cell_type": "code",
   "execution_count": null,
   "id": "475a11fa-ab2b-46e8-835a-9d8566df4546",
   "metadata": {
    "tags": []
   },
   "outputs": [],
   "source": [
    "foreign_trade['value_o'] = foreign_trade['value'].astype(str)\n",
    "display(foreign_trade.dtypes)\n",
    "view_dataframe(dataframe=foreign_trade, column='value_o', operator='==')"
   ]
  },
  {
   "cell_type": "markdown",
   "id": "b41ed5dd-7050-43ed-bca9-812c2bc62d18",
   "metadata": {},
   "source": [
    "## Boolean columns are not treated as numeric columns"
   ]
  },
  {
   "cell_type": "code",
   "execution_count": null,
   "id": "98d5bdec-9096-4e60-b665-8f42aa84ace2",
   "metadata": {
    "tags": []
   },
   "outputs": [],
   "source": [
    "view_dataframe(dataframe=foreign_trade, column='import', operator='>=')"
   ]
  },
  {
   "cell_type": "code",
   "execution_count": null,
   "id": "1497821a-1707-4de5-aa93-10dd2bf58d72",
   "metadata": {
    "tags": []
   },
   "outputs": [],
   "source": [
    "view_dataframe(dataframe=foreign_trade, column='import', operator='==')"
   ]
  },
  {
   "cell_type": "markdown",
   "id": "cd79b415-ca38-4d99-bb2b-626a76697fe2",
   "metadata": {},
   "source": [
    "## The unique_limit parameter\n",
    "If we have more than 100 different values to use with the equality operators, we get an error message. We can change the limit, however we should not use the equality operators on columns with very many unique values"
   ]
  },
  {
   "cell_type": "code",
   "execution_count": null,
   "id": "73950980-0987-4fda-b803-458174ec31d3",
   "metadata": {
    "tags": []
   },
   "outputs": [],
   "source": [
    "view_dataframe(dataframe=foreign_trade, column='value_o', operator='==', unique_limit=25)"
   ]
  }
 ],
 "metadata": {
  "language_info": {
   "codemirror_mode": {
    "name": "ipython"
   },
   "file_extension": ".py",
   "mimetype": "text/x-python",
   "name": "python",
   "nbconvert_exporter": "python"
  }
 },
 "nbformat": 4,
 "nbformat_minor": 5
}
