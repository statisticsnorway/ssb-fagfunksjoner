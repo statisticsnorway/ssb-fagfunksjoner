{
 "cells": [
  {
   "cell_type": "markdown",
   "id": "eddf81d9-68bd-4f9a-b856-804adc7b99e2",
   "metadata": {},
   "source": [
    "# Path (dapla)"
   ]
  },
  {
   "cell_type": "code",
   "execution_count": null,
   "id": "31d844c1-3fec-4580-9fcb-987836b548e7",
   "metadata": {
    "tags": []
   },
   "outputs": [],
   "source": [
    "import dapla as dp\n",
    "import pandas as pd\n",
    "\n",
    "from daplapath import Path, PathSeries"
   ]
  },
  {
   "cell_type": "code",
   "execution_count": null,
   "id": "9d991b37-e519-4e3f-90e1-fc8ce34a1162",
   "metadata": {
    "tags": []
   },
   "outputs": [],
   "source": [
    "folder = Path('ssb-prod-kart-data-delt/kartdata_analyse/klargjorte-data/2023')\n",
    "folder"
   ]
  },
  {
   "cell_type": "code",
   "execution_count": null,
   "id": "b723b9b3-48e9-4bfe-acb5-adf2a29380c9",
   "metadata": {
    "tags": []
   },
   "outputs": [],
   "source": [
    "\"ssb\" in folder"
   ]
  },
  {
   "cell_type": "code",
   "execution_count": null,
   "id": "234d8ac7-42dd-45a0-91df-10e113ca9f77",
   "metadata": {
    "tags": []
   },
   "outputs": [],
   "source": [
    "# overwrite string constructor? Subclass PurePosixPath?\n",
    "s = folder.replace(\"ssb\", \"csb\")\n",
    "s.exists()"
   ]
  },
  {
   "cell_type": "markdown",
   "id": "dda0f655-1131-487f-bebd-ba0b402ce9a8",
   "metadata": {},
   "source": [
    "## Fungerer som tekst"
   ]
  },
  {
   "cell_type": "code",
   "execution_count": null,
   "id": "e81cfa47",
   "metadata": {
    "tags": []
   },
   "outputs": [],
   "source": [
    "folder.startswith(\"ssb\")"
   ]
  },
  {
   "cell_type": "code",
   "execution_count": null,
   "id": "121ee398-24f3-49b0-9efa-516e8b211b78",
   "metadata": {
    "tags": []
   },
   "outputs": [],
   "source": [
    "dp.FileClient.get_gcs_file_system().exists(folder)"
   ]
  },
  {
   "cell_type": "code",
   "execution_count": null,
   "id": "32da587e-d50e-4e9c-9023-29bf791d40fd",
   "metadata": {
    "tags": []
   },
   "outputs": [],
   "source": [
    "file = folder / \"ABAS_kommune_utenhav_p2023_v1.parquet\"\n",
    "dp.read_pandas(file, columns=[\"KOMMUNENR\"])"
   ]
  },
  {
   "cell_type": "markdown",
   "id": "c2a08ddc-907a-4078-84c2-3e1a76f2e884",
   "metadata": {},
   "source": [
    "## Med metoder og attributter ala pathlib.Path"
   ]
  },
  {
   "cell_type": "code",
   "execution_count": null,
   "id": "4c5dfe8e-7fb6-4c51-93a8-429dbf92c0bc",
   "metadata": {
    "tags": []
   },
   "outputs": [],
   "source": [
    "folder.exists()"
   ]
  },
  {
   "cell_type": "code",
   "execution_count": null,
   "id": "ae61e26a-c2f7-4695-87f3-c6b531024835",
   "metadata": {
    "tags": []
   },
   "outputs": [],
   "source": [
    "folder.is_dir()"
   ]
  },
  {
   "cell_type": "code",
   "execution_count": null,
   "id": "dcfca47e-74c0-43ea-8175-0f8437cfde09",
   "metadata": {
    "tags": []
   },
   "outputs": [],
   "source": [
    "file = folder / \"ABAS_kommune_utenhav_p2023_v1.parquet\"\n",
    "file"
   ]
  },
  {
   "cell_type": "code",
   "execution_count": null,
   "id": "f7b08c31-0988-4118-910c-5fffd59163b9",
   "metadata": {
    "tags": []
   },
   "outputs": [],
   "source": [
    "file.parent"
   ]
  },
  {
   "cell_type": "markdown",
   "id": "261e3b44-e785-44f1-8581-ec7a7a2a690f",
   "metadata": {},
   "source": [
    "## Og noen pandas attributter\n",
    "\n",
    "Uten å lese filen"
   ]
  },
  {
   "cell_type": "code",
   "execution_count": null,
   "id": "329461dd-dda9-4866-88f5-e9913871093c",
   "metadata": {
    "tags": []
   },
   "outputs": [],
   "source": [
    "file.columns"
   ]
  },
  {
   "cell_type": "code",
   "execution_count": null,
   "id": "8c781ca9-4536-42ee-8e96-fc08f7351940",
   "metadata": {
    "tags": []
   },
   "outputs": [],
   "source": [
    "file.dtypes"
   ]
  },
  {
   "cell_type": "code",
   "execution_count": null,
   "id": "f8c021ea-9a7e-4552-b4f4-7872746ba00c",
   "metadata": {
    "tags": []
   },
   "outputs": [],
   "source": [
    "file.shape"
   ]
  },
  {
   "cell_type": "code",
   "execution_count": null,
   "id": "1f915f2a-87cf-49fb-a6e1-838e9ba44ec2",
   "metadata": {
    "tags": []
   },
   "outputs": [],
   "source": [
    "Path(file.replace(\"utenhav\", \"flate\"))"
   ]
  },
  {
   "cell_type": "markdown",
   "id": "3ef8aea6-8576-4319-9a03-31587df527fc",
   "metadata": {},
   "source": [
    "## Versjonering"
   ]
  },
  {
   "cell_type": "code",
   "execution_count": null,
   "id": "e25058e1-5a1f-4673-beff-b54208fd512a",
   "metadata": {
    "tags": []
   },
   "outputs": [],
   "source": [
    "file.version_number"
   ]
  },
  {
   "cell_type": "code",
   "execution_count": null,
   "id": "580a9db4-554d-46c1-9912-1738f4fe0452",
   "metadata": {
    "tags": []
   },
   "outputs": [],
   "source": [
    "file.versions()"
   ]
  },
  {
   "cell_type": "code",
   "execution_count": null,
   "id": "0a508b4a-cdb5-4886-92f4-c2e5cab4d7bd",
   "metadata": {
    "tags": []
   },
   "outputs": [],
   "source": [
    "file.latest_version()"
   ]
  },
  {
   "cell_type": "code",
   "execution_count": null,
   "id": "e3048b3f-0434-40bb-81d7-1e5c4d4c3da1",
   "metadata": {
    "tags": []
   },
   "outputs": [],
   "source": [
    "file.highest_numbered_version()"
   ]
  },
  {
   "cell_type": "code",
   "execution_count": null,
   "id": "220f527c-c9ed-4b5b-bbd1-26554bd32f12",
   "metadata": {
    "tags": []
   },
   "outputs": [],
   "source": [
    "# highest_numbered_version + 1\n",
    "file.new_version()"
   ]
  },
  {
   "cell_type": "code",
   "execution_count": null,
   "id": "153658a2-c13b-4ab1-ab83-a1e6caf86dd1",
   "metadata": {
    "tags": []
   },
   "outputs": [],
   "source": [
    "# alltid False\n",
    "file.new_version().exists()"
   ]
  },
  {
   "cell_type": "code",
   "execution_count": null,
   "id": "30c681aa-09f0-4c03-a37d-0b63af48d478",
   "metadata": {
    "tags": []
   },
   "outputs": [],
   "source": [
    "# finner/fjerner versjonsnummer med regex\n",
    "file._version_pattern"
   ]
  },
  {
   "cell_type": "markdown",
   "id": "ed6b31bd-3e98-438d-981c-5fc66cbab5c9",
   "metadata": {},
   "source": [
    "## ls - få filstier, timestamp og størrelse\n",
    "\n",
    "Og stier som kopieres (som ctrl + c) når man klipper på stien."
   ]
  },
  {
   "cell_type": "code",
   "execution_count": null,
   "id": "7cb4ff3d-1de2-4da3-a11a-5bcee5e56837",
   "metadata": {
    "tags": []
   },
   "outputs": [],
   "source": [
    "files_in_dir = file.parent.ls()\n",
    "files_in_dir"
   ]
  },
  {
   "cell_type": "code",
   "execution_count": null,
   "id": "5a996bf9-8ae7-47e8-8441-a9ba4fd22118",
   "metadata": {
    "tags": []
   },
   "outputs": [],
   "source": [
    "# subclass av pandas.Series\n",
    "type(files_in_dir)"
   ]
  },
  {
   "cell_type": "code",
   "execution_count": null,
   "id": "2180b582-e8b0-4244-9b02-e5571a887eba",
   "metadata": {
    "tags": []
   },
   "outputs": [],
   "source": [
    "files_in_dir.loc[lambda x: x.gb > 10].keep_latest_versions()"
   ]
  },
  {
   "cell_type": "code",
   "execution_count": null,
   "id": "29d9b0af-8a79-439b-8475-80dc20f28ab1",
   "metadata": {
    "tags": []
   },
   "outputs": [],
   "source": [
    "# stiene er fortsatt Path\n",
    "type(files_in_dir.iloc[0])"
   ]
  },
  {
   "cell_type": "code",
   "execution_count": null,
   "id": "d8855576-b668-49d3-9dff-3f4a85fa2a3e",
   "metadata": {
    "tags": []
   },
   "outputs": [],
   "source": [
    "# velg ut filene\n",
    "folder.ls().files()"
   ]
  },
  {
   "cell_type": "code",
   "execution_count": null,
   "id": "cd35ecbf-ec2d-4009-8022-39215a9d2412",
   "metadata": {
    "tags": []
   },
   "outputs": [],
   "source": [
    "folder.ls().dirs()"
   ]
  },
  {
   "cell_type": "code",
   "execution_count": null,
   "id": "608c14f4-c220-44c0-a3a3-23f7ef3a0ecc",
   "metadata": {
    "tags": []
   },
   "outputs": [],
   "source": [
    "# samme som .loc med x.str.contains\n",
    "folder.ls().containing(\"kommune\")"
   ]
  },
  {
   "cell_type": "code",
   "execution_count": null,
   "id": "04ebc70b-e8e5-4f0c-9bb6-c0d2fb89e407",
   "metadata": {
    "tags": []
   },
   "outputs": [],
   "source": [
    "folder.ls().within_hours(24 * 30)"
   ]
  },
  {
   "cell_type": "code",
   "execution_count": null,
   "id": "ee7d84ca-2d86-4d6e-bf88-6d8e6bf0edf9",
   "metadata": {
    "tags": []
   },
   "outputs": [],
   "source": [
    "file.parent.parent.ls(recursive=True).files()"
   ]
  },
  {
   "cell_type": "code",
   "execution_count": null,
   "id": "cbbedd4f-1652-47c0-862f-550df8a4f12b",
   "metadata": {
    "tags": []
   },
   "outputs": [],
   "source": [
    "folders: PathSeries = file.parent.parent.ls()\n",
    "folders.ls_dirs()"
   ]
  },
  {
   "cell_type": "code",
   "execution_count": null,
   "id": "e5ffe458-933b-4f03-aaef-6ab979894015",
   "metadata": {
    "tags": []
   },
   "outputs": [],
   "source": [
    "pd.concat(folders.ls_dirs())"
   ]
  },
  {
   "cell_type": "markdown",
   "id": "518feffe-dace-4bb4-ba26-0eeaf3fc2c38",
   "metadata": {},
   "source": [
    "## Write to testpath"
   ]
  },
  {
   "cell_type": "code",
   "execution_count": null,
   "id": "5b8e70b6-3ca1-4948-a7d0-f5af4f706e8a",
   "metadata": {
    "tags": []
   },
   "outputs": [],
   "source": [
    "testpath = Path('ssb-prod-areal-data-produkt/arealstat/temp/test_df_p2023_v1.parquet')\n",
    "\n",
    "# delete files first\n",
    "for version in testpath.versions():\n",
    "    version.rm_file()\n",
    "\n",
    "testpath.exists()"
   ]
  },
  {
   "cell_type": "code",
   "execution_count": null,
   "id": "6e0d491c-433e-40cb-ba3d-fc32ce0d8454",
   "metadata": {
    "tags": []
   },
   "outputs": [],
   "source": [
    "df = pd.DataFrame({\"x\": [1,2,3], \"y\": [*\"abc\"]})\n",
    "\n",
    "dp.write_pandas(df, testpath)\n",
    "\n",
    "testpath.exists()"
   ]
  },
  {
   "cell_type": "code",
   "execution_count": null,
   "id": "4a09c154-304d-4ebc-9b19-d2b87f3e3492",
   "metadata": {
    "tags": []
   },
   "outputs": [],
   "source": [
    "testpath.latest_version()"
   ]
  },
  {
   "cell_type": "code",
   "execution_count": null,
   "id": "6c174f28-6bcf-43a1-a6fd-f6a362633215",
   "metadata": {
    "tags": []
   },
   "outputs": [],
   "source": [
    "# highest_numbered_version + 1\n",
    "testpath.new_version()"
   ]
  },
  {
   "cell_type": "code",
   "execution_count": null,
   "id": "171a2936-73f5-4f13-962e-dbb8158e4926",
   "metadata": {
    "tags": []
   },
   "outputs": [],
   "source": [
    "dp.write_pandas(df, testpath.new_version())"
   ]
  },
  {
   "cell_type": "code",
   "execution_count": null,
   "id": "6d7b77eb-361e-4dac-85b0-a805bf9bdce9",
   "metadata": {
    "tags": []
   },
   "outputs": [],
   "source": [
    "# samme som over, men med feilmelding for å unngå å lage masse nye versjoner i loop e.l.\n",
    "testpath.write_new_version(df)"
   ]
  },
  {
   "cell_type": "code",
   "execution_count": null,
   "id": "9b3749c9-a67f-4b88-859e-431adcc5db4c",
   "metadata": {
    "tags": []
   },
   "outputs": [],
   "source": [
    "testpath.write_new_version(df, timeout=0.01)"
   ]
  },
  {
   "cell_type": "code",
   "execution_count": null,
   "id": "9eb6845c-3bba-4062-839c-3895ebf22fa3",
   "metadata": {
    "tags": []
   },
   "outputs": [],
   "source": [
    "testpath.versions()"
   ]
  },
  {
   "cell_type": "code",
   "execution_count": null,
   "id": "db1510cb-b2d3-4c9a-8606-fd95596c23f4",
   "metadata": {},
   "outputs": [],
   "source": []
  }
 ],
 "metadata": {
  "language_info": {
   "codemirror_mode": {
    "name": "ipython"
   },
   "file_extension": ".py",
   "mimetype": "text/x-python",
   "name": "python",
   "nbconvert_exporter": "python"
  }
 },
 "nbformat": 4,
 "nbformat_minor": 5
}
