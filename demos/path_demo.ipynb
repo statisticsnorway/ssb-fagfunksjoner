{
 "cells": [
  {
   "cell_type": "markdown",
   "id": "eddf81d9-68bd-4f9a-b856-804adc7b99e2",
   "metadata": {},
   "source": [
    "# Path (dapla)"
   ]
  },
  {
   "cell_type": "code",
   "execution_count": null,
   "id": "31d844c1-3fec-4580-9fcb-987836b548e7",
   "metadata": {
    "tags": []
   },
   "outputs": [],
   "source": [
    "import os\n",
    "\n",
    "import dapla as dp\n",
    "import pandas as pd\n",
    "\n",
    "os.chdir(\"../\")\n",
    "from fagfunksjoner import Path, PathSeries"
   ]
  },
  {
   "cell_type": "code",
   "execution_count": null,
   "id": "9d991b37-e519-4e3f-90e1-fc8ce34a1162",
   "metadata": {
    "tags": []
   },
   "outputs": [],
   "source": [
    "folder = Path('ssb-prod-kart-data-delt/kartdata_analyse/klargjorte-data/2023')\n",
    "folder"
   ]
  },
  {
   "cell_type": "code",
   "execution_count": null,
   "id": "9d9fa12e-3cd8-4e88-9846-034617b0709d",
   "metadata": {
    "tags": []
   },
   "outputs": [],
   "source": [
    "folder.ls()"
   ]
  },
  {
   "cell_type": "code",
   "execution_count": null,
   "id": "b16f7d11-3330-4a8c-85a5-8d2b38d6aae0",
   "metadata": {
    "tags": []
   },
   "outputs": [],
   "source": [
    "(\n",
    "    folder.ls().files()\n",
    "    .containing(\"ABAS_kommune\")\n",
    "    .loc[lambda x: x.mb > 100]\n",
    ")"
   ]
  },
  {
   "cell_type": "markdown",
   "id": "dda0f655-1131-487f-bebd-ba0b402ce9a8",
   "metadata": {},
   "source": [
    "## Fungerer som tekst"
   ]
  },
  {
   "cell_type": "code",
   "execution_count": null,
   "id": "e81cfa47",
   "metadata": {
    "tags": []
   },
   "outputs": [],
   "source": [
    "folder.startswith(\"ssb\")"
   ]
  },
  {
   "cell_type": "code",
   "execution_count": null,
   "id": "b723b9b3-48e9-4bfe-acb5-adf2a29380c9",
   "metadata": {
    "tags": []
   },
   "outputs": [],
   "source": [
    "\"ssb\" in folder"
   ]
  },
  {
   "cell_type": "code",
   "execution_count": null,
   "id": "121ee398-24f3-49b0-9efa-516e8b211b78",
   "metadata": {
    "tags": []
   },
   "outputs": [],
   "source": [
    "dp.FileClient.get_gcs_file_system().exists(folder)"
   ]
  },
  {
   "cell_type": "code",
   "execution_count": null,
   "id": "32da587e-d50e-4e9c-9023-29bf791d40fd",
   "metadata": {
    "tags": []
   },
   "outputs": [],
   "source": [
    "file = folder / \"ABAS_kommune_utenhav_p2023_v1.parquet\"\n",
    "\n",
    "dp.read_pandas(file, columns=[\"KOMMUNENR\"])"
   ]
  },
  {
   "cell_type": "markdown",
   "id": "c2a08ddc-907a-4078-84c2-3e1a76f2e884",
   "metadata": {},
   "source": [
    "## Med metoder og attributter ala pathlib.Path"
   ]
  },
  {
   "cell_type": "code",
   "execution_count": null,
   "id": "4c5dfe8e-7fb6-4c51-93a8-429dbf92c0bc",
   "metadata": {
    "tags": []
   },
   "outputs": [],
   "source": [
    "folder.exists()"
   ]
  },
  {
   "cell_type": "code",
   "execution_count": null,
   "id": "ae61e26a-c2f7-4695-87f3-c6b531024835",
   "metadata": {
    "tags": []
   },
   "outputs": [],
   "source": [
    "folder.is_dir()"
   ]
  },
  {
   "cell_type": "code",
   "execution_count": null,
   "id": "dcfca47e-74c0-43ea-8175-0f8437cfde09",
   "metadata": {
    "tags": []
   },
   "outputs": [],
   "source": [
    "file = folder / \"ABAS_kommune_utenhav_p2023_v1.parquet\"\n",
    "file"
   ]
  },
  {
   "cell_type": "code",
   "execution_count": null,
   "id": "f7b08c31-0988-4118-910c-5fffd59163b9",
   "metadata": {
    "tags": []
   },
   "outputs": [],
   "source": [
    "file.parent"
   ]
  },
  {
   "cell_type": "markdown",
   "id": "261e3b44-e785-44f1-8581-ec7a7a2a690f",
   "metadata": {},
   "source": [
    "## Og noen pandas attributter\n",
    "\n",
    "Uten å lese filen"
   ]
  },
  {
   "cell_type": "code",
   "execution_count": null,
   "id": "329461dd-dda9-4866-88f5-e9913871093c",
   "metadata": {
    "tags": []
   },
   "outputs": [],
   "source": [
    "file.columns"
   ]
  },
  {
   "cell_type": "code",
   "execution_count": null,
   "id": "8c781ca9-4536-42ee-8e96-fc08f7351940",
   "metadata": {
    "tags": []
   },
   "outputs": [],
   "source": [
    "file.dtypes"
   ]
  },
  {
   "cell_type": "code",
   "execution_count": null,
   "id": "f8c021ea-9a7e-4552-b4f4-7872746ba00c",
   "metadata": {
    "tags": []
   },
   "outputs": [],
   "source": [
    "file.shape"
   ]
  },
  {
   "cell_type": "markdown",
   "id": "3ef8aea6-8576-4319-9a03-31587df527fc",
   "metadata": {},
   "source": [
    "## Versjonering"
   ]
  },
  {
   "cell_type": "code",
   "execution_count": null,
   "id": "e25058e1-5a1f-4673-beff-b54208fd512a",
   "metadata": {
    "tags": []
   },
   "outputs": [],
   "source": [
    "file.version_number"
   ]
  },
  {
   "cell_type": "code",
   "execution_count": null,
   "id": "580a9db4-554d-46c1-9912-1738f4fe0452",
   "metadata": {
    "tags": []
   },
   "outputs": [],
   "source": [
    "file.versions()"
   ]
  },
  {
   "cell_type": "code",
   "execution_count": null,
   "id": "0a508b4a-cdb5-4886-92f4-c2e5cab4d7bd",
   "metadata": {
    "tags": []
   },
   "outputs": [],
   "source": [
    "file.latest_version()"
   ]
  },
  {
   "cell_type": "code",
   "execution_count": null,
   "id": "e3048b3f-0434-40bb-81d7-1e5c4d4c3da1",
   "metadata": {
    "tags": []
   },
   "outputs": [],
   "source": [
    "file.highest_numbered_version()"
   ]
  },
  {
   "cell_type": "code",
   "execution_count": null,
   "id": "220f527c-c9ed-4b5b-bbd1-26554bd32f12",
   "metadata": {
    "tags": []
   },
   "outputs": [],
   "source": [
    "# highest_numbered_version + 1\n",
    "file.new_version()"
   ]
  },
  {
   "cell_type": "code",
   "execution_count": null,
   "id": "153658a2-c13b-4ab1-ab83-a1e6caf86dd1",
   "metadata": {
    "tags": []
   },
   "outputs": [],
   "source": [
    "# alltid False\n",
    "file.new_version().exists()"
   ]
  },
  {
   "cell_type": "code",
   "execution_count": null,
   "id": "30c681aa-09f0-4c03-a37d-0b63af48d478",
   "metadata": {
    "tags": []
   },
   "outputs": [],
   "source": [
    "# finner/fjerner versjonsnummer med regex\n",
    "file._version_pattern"
   ]
  },
  {
   "cell_type": "markdown",
   "id": "d85de3b4-7357-42e9-82a5-9fb9ffa5edd7",
   "metadata": {},
   "source": [
    "## Periode"
   ]
  },
  {
   "cell_type": "code",
   "execution_count": null,
   "id": "56176407-2812-4570-a5dc-e5e099f89128",
   "metadata": {
    "tags": []
   },
   "outputs": [],
   "source": [
    "file.periods"
   ]
  },
  {
   "cell_type": "code",
   "execution_count": null,
   "id": "07e53849-5844-43bc-b325-284b208319ff",
   "metadata": {
    "tags": []
   },
   "outputs": [],
   "source": [
    "file.with_periods(\"2023-01\")"
   ]
  },
  {
   "cell_type": "code",
   "execution_count": null,
   "id": "d9be3607-c8a1-44ea-bc65-e229e44adc80",
   "metadata": {},
   "outputs": [],
   "source": [
    "file.with_periods(\"2023-01-01\")"
   ]
  },
  {
   "cell_type": "code",
   "execution_count": null,
   "id": "636178c5-97f5-4da3-9488-3a4b1d2597d3",
   "metadata": {
    "tags": []
   },
   "outputs": [],
   "source": [
    "file.with_periods(\"2023-01-01\").periods"
   ]
  },
  {
   "cell_type": "code",
   "execution_count": null,
   "id": "9584f90a-68c7-42e7-a2ca-dc5e2daf8190",
   "metadata": {
    "tags": []
   },
   "outputs": [],
   "source": [
    "file.with_periods(\"2023\", \"2024\")"
   ]
  },
  {
   "cell_type": "code",
   "execution_count": null,
   "id": "b90728c2-200b-445b-a105-8ca486237f2a",
   "metadata": {},
   "outputs": [],
   "source": [
    "file.with_periods(\"2023\", \"2024\").periods"
   ]
  },
  {
   "cell_type": "code",
   "execution_count": null,
   "id": "54915639-8d30-4731-b022-ab9b1c52fc24",
   "metadata": {
    "tags": []
   },
   "outputs": [],
   "source": [
    "# finn riktig fil utfra stammen\n",
    "year = 2023\n",
    "stem = \"ABAS_kommune_utenhav\"\n",
    "\n",
    "file = (\n",
    "    (folder / stem)\n",
    "    .with_periods(year)\n",
    "    .highest_numbered_version()\n",
    ")\n",
    "file"
   ]
  },
  {
   "cell_type": "code",
   "execution_count": null,
   "id": "40626335-7b2c-449a-a94c-20099a910e65",
   "metadata": {
    "tags": []
   },
   "outputs": [],
   "source": [
    "# feilmelding hvis filen ikke finnes\n",
    "year = 2023\n",
    "stem = \"ABAS_hav\"\n",
    "\n",
    "file = (\n",
    "    (folder / stem)\n",
    "    .with_periods(year)\n",
    "    .highest_numbered_version()\n",
    ")\n",
    "file"
   ]
  },
  {
   "cell_type": "code",
   "execution_count": null,
   "id": "70c329b3-5095-4438-98a1-e391e3dbf194",
   "metadata": {
    "tags": []
   },
   "outputs": [],
   "source": [
    "# feilmelding hvis mer enn én fil matcher 'name'\n",
    "\n",
    "year = 2023\n",
    "stem = \"ABAS_kommune\"\n",
    "\n",
    "file = (\n",
    "    (folder / stem)\n",
    "    .highest_numbered_version()\n",
    ")\n",
    "file"
   ]
  },
  {
   "cell_type": "markdown",
   "id": "ed6b31bd-3e98-438d-981c-5fc66cbab5c9",
   "metadata": {},
   "source": [
    "## Mer om ls\n",
    "\n",
    "Stiene kopieres (som ctrl + c) når man klikker på stien."
   ]
  },
  {
   "cell_type": "code",
   "execution_count": null,
   "id": "7cb4ff3d-1de2-4da3-a11a-5bcee5e56837",
   "metadata": {
    "tags": []
   },
   "outputs": [],
   "source": [
    "files_in_dir = file.parent.ls()\n",
    "files_in_dir"
   ]
  },
  {
   "cell_type": "code",
   "execution_count": null,
   "id": "5a996bf9-8ae7-47e8-8441-a9ba4fd22118",
   "metadata": {
    "tags": []
   },
   "outputs": [],
   "source": [
    "# subclass av pandas.Series\n",
    "type(files_in_dir)"
   ]
  },
  {
   "cell_type": "code",
   "execution_count": null,
   "id": "2180b582-e8b0-4244-9b02-e5571a887eba",
   "metadata": {
    "tags": []
   },
   "outputs": [],
   "source": [
    "files_in_dir.loc[lambda x: x.gb > 10].keep_latest_versions()"
   ]
  },
  {
   "cell_type": "code",
   "execution_count": null,
   "id": "29d9b0af-8a79-439b-8475-80dc20f28ab1",
   "metadata": {
    "tags": []
   },
   "outputs": [],
   "source": [
    "# stiene er fortsatt Path\n",
    "type(files_in_dir.iloc[0])"
   ]
  },
  {
   "cell_type": "code",
   "execution_count": null,
   "id": "d8855576-b668-49d3-9dff-3f4a85fa2a3e",
   "metadata": {
    "tags": []
   },
   "outputs": [],
   "source": [
    "# velg ut filene\n",
    "folder.ls().files().keep_highest_numbered_versions()"
   ]
  },
  {
   "cell_type": "code",
   "execution_count": null,
   "id": "cd35ecbf-ec2d-4009-8022-39215a9d2412",
   "metadata": {
    "tags": []
   },
   "outputs": [],
   "source": [
    "folder.parent.dirs()"
   ]
  },
  {
   "cell_type": "code",
   "execution_count": null,
   "id": "608c14f4-c220-44c0-a3a3-23f7ef3a0ecc",
   "metadata": {
    "tags": []
   },
   "outputs": [],
   "source": [
    "# samme som .loc med x.str.contains\n",
    "folder.ls().containing(\"kommune\")"
   ]
  },
  {
   "cell_type": "code",
   "execution_count": null,
   "id": "278cb199-a19f-4776-b5f9-899c9f02bfef",
   "metadata": {
    "tags": []
   },
   "outputs": [],
   "source": [
    "# og samme som\n",
    "folder.glob(\"*kommune*\")"
   ]
  },
  {
   "cell_type": "code",
   "execution_count": null,
   "id": "04ebc70b-e8e5-4f0c-9bb6-c0d2fb89e407",
   "metadata": {
    "tags": []
   },
   "outputs": [],
   "source": [
    "folder.ls().within_days(100)"
   ]
  },
  {
   "cell_type": "code",
   "execution_count": null,
   "id": "ee7d84ca-2d86-4d6e-bf88-6d8e6bf0edf9",
   "metadata": {
    "tags": []
   },
   "outputs": [],
   "source": [
    "file.parent.parent.ls(recursive=True).files()"
   ]
  },
  {
   "cell_type": "code",
   "execution_count": null,
   "id": "cbbedd4f-1652-47c0-862f-550df8a4f12b",
   "metadata": {
    "tags": []
   },
   "outputs": [],
   "source": [
    "folders: PathSeries = file.parent.parent.ls()\n",
    "folders.ls_dirs()"
   ]
  },
  {
   "cell_type": "code",
   "execution_count": null,
   "id": "e5ffe458-933b-4f03-aaef-6ab979894015",
   "metadata": {
    "tags": []
   },
   "outputs": [],
   "source": [
    "pd.concat(folders.ls_dirs())"
   ]
  },
  {
   "cell_type": "markdown",
   "id": "518feffe-dace-4bb4-ba26-0eeaf3fc2c38",
   "metadata": {},
   "source": [
    "## Write to testpath"
   ]
  },
  {
   "cell_type": "code",
   "execution_count": null,
   "id": "5b8e70b6-3ca1-4948-a7d0-f5af4f706e8a",
   "metadata": {
    "tags": []
   },
   "outputs": [],
   "source": [
    "testpath = Path(\n",
    "    'ssb-prod-dapla-felles-data-delt/path_test/test_df_p2023.parquet'\n",
    ")\n",
    "\n",
    "# delete files first\n",
    "for version in testpath.versions():\n",
    "    version.rm_file()\n",
    "\n",
    "testpath = testpath.new_version()\n",
    "\n",
    "testpath.exists()"
   ]
  },
  {
   "cell_type": "code",
   "execution_count": null,
   "id": "968ce0c5-b71a-4854-a17f-09fa4ee33199",
   "metadata": {
    "tags": []
   },
   "outputs": [],
   "source": [
    "testpath"
   ]
  },
  {
   "cell_type": "code",
   "execution_count": null,
   "id": "6e0d491c-433e-40cb-ba3d-fc32ce0d8454",
   "metadata": {
    "tags": []
   },
   "outputs": [],
   "source": [
    "df = pd.DataFrame({\"x\": [1,2,3], \"y\": [*\"abc\"]})\n",
    "\n",
    "dp.write_pandas(df, testpath)\n",
    "\n",
    "testpath.exists()"
   ]
  },
  {
   "cell_type": "code",
   "execution_count": null,
   "id": "4a09c154-304d-4ebc-9b19-d2b87f3e3492",
   "metadata": {
    "tags": []
   },
   "outputs": [],
   "source": [
    "testpath.latest_version()"
   ]
  },
  {
   "cell_type": "code",
   "execution_count": null,
   "id": "6c174f28-6bcf-43a1-a6fd-f6a362633215",
   "metadata": {
    "tags": []
   },
   "outputs": [],
   "source": [
    "# highest_numbered_version + 1\n",
    "testpath.new_version(timeout=None)"
   ]
  },
  {
   "cell_type": "code",
   "execution_count": null,
   "id": "d3106eaa-75ba-449d-b3bc-ede05cec3e8d",
   "metadata": {
    "tags": []
   },
   "outputs": [],
   "source": [
    "# default med 30 minutter timeout for å ikke lagre i loop e.l.\n",
    "for _ in range(5):\n",
    "    dp.write_pandas(df, testpath.new_version())"
   ]
  },
  {
   "cell_type": "code",
   "execution_count": null,
   "id": "950ccefd-bb2a-43a2-b752-04801f981f66",
   "metadata": {
    "tags": []
   },
   "outputs": [],
   "source": [
    "for _ in range(5):\n",
    "    dp.write_pandas(df, testpath.new_version(timeout=None))"
   ]
  },
  {
   "cell_type": "code",
   "execution_count": null,
   "id": "a2389714-64ba-4765-a251-8f5d76181f4f",
   "metadata": {
    "tags": []
   },
   "outputs": [],
   "source": [
    "dp.write_pandas(df, testpath.with_version(101))"
   ]
  },
  {
   "cell_type": "code",
   "execution_count": null,
   "id": "9eb6845c-3bba-4062-839c-3895ebf22fa3",
   "metadata": {
    "tags": []
   },
   "outputs": [],
   "source": [
    "testpath.versions()"
   ]
  },
  {
   "cell_type": "code",
   "execution_count": null,
   "id": "9af7683e-a980-40a7-8ba6-c304f50e9374",
   "metadata": {},
   "outputs": [],
   "source": []
  }
 ],
 "metadata": {
  "language_info": {
   "codemirror_mode": {
    "name": "ipython"
   },
   "file_extension": ".py",
   "mimetype": "text/x-python",
   "name": "python",
   "nbconvert_exporter": "python"
  }
 },
 "nbformat": 4,
 "nbformat_minor": 5
}
