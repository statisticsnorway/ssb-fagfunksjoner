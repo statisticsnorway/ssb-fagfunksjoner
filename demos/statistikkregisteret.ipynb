{
 "cells": [
  {
   "cell_type": "code",
   "execution_count": null,
   "id": "91165719-57ec-4277-87f7-1308658e9366",
   "metadata": {
    "tags": []
   },
   "outputs": [],
   "source": [
    "import os\n",
    "os.chdir(\"../\")\n",
    "from fagfunksjoner.api import statistikkregisteret as reg"
   ]
  },
  {
   "cell_type": "code",
   "execution_count": null,
   "id": "4c3a1837-c84e-4680-ac0f-27a05385b842",
   "metadata": {
    "tags": []
   },
   "outputs": [],
   "source": [
    "reg.time_until_publishing(\"vgu\")"
   ]
  },
  {
   "cell_type": "code",
   "execution_count": null,
   "id": "587b3ce0-f05e-4f20-a018-c440d72acae9",
   "metadata": {},
   "outputs": [],
   "source": []
  }
 ],
 "metadata": {
  "language_info": {
   "codemirror_mode": {
    "name": "ipython"
   },
   "file_extension": ".py",
   "mimetype": "text/x-python",
   "name": "python",
   "nbconvert_exporter": "python"
  }
 },
 "nbformat": 4,
 "nbformat_minor": 5
}
