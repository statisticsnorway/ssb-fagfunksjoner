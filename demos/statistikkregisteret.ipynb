{
 "cells": [
  {
   "cell_type": "code",
   "execution_count": null,
   "id": "91165719-57ec-4277-87f7-1308658e9366",
   "metadata": {
    "tags": []
   },
   "outputs": [],
   "source": [
    "import os\n",
    "os.chdir(\"../\")\n",
    "from fagfunksjoner.api import statistikkregisteret as reg"
   ]
  },
  {
   "cell_type": "code",
   "execution_count": null,
   "id": "f4735f4b-2284-4ccc-bb16-f2126d099be0",
   "metadata": {
    "tags": []
   },
   "outputs": [],
   "source": [
    "reg.find_latest_publishing(\"vgu\")"
   ]
  },
  {
   "cell_type": "code",
   "execution_count": null,
   "id": "532b7f9c-0dc8-4cbe-b999-a3996da0a711",
   "metadata": {},
   "outputs": [],
   "source": []
  }
 ],
 "metadata": {
  "language_info": {
   "codemirror_mode": {
    "name": "ipython"
   },
   "file_extension": ".py",
   "mimetype": "text/x-python",
   "name": "python",
   "nbconvert_exporter": "python"
  }
 },
 "nbformat": 4,
 "nbformat_minor": 5
}
