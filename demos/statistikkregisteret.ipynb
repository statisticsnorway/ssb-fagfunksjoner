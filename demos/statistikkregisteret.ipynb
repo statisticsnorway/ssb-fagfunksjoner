{
 "cells": [
  {
   "cell_type": "code",
   "execution_count": null,
   "id": "2ed2bad0-ccad-4bee-a9c7-7e2597a60bc9",
   "metadata": {
    "tags": []
   },
   "outputs": [],
   "source": [
    "kortkode = \"vgogjen\""
   ]
  },
  {
   "cell_type": "code",
   "execution_count": null,
   "id": "8bcf89cb-c7a1-4207-86fa-45e852888b68",
   "metadata": {},
   "outputs": [],
   "source": [
    "def time_until_publishing(kortkode: str) -> datetime.timedelta:\n",
    "    tid = reg.find_latest_publishing(kortkode)[\"specifics\"][\"publisering\"]['@tidspunkt']\n",
    "    tid = datetime.strptime(tid[:-2], \"%Y-%m-%d %H:%M:%S\")\n",
    "    return datetime.now() - tid"
   ]
  },
  {
   "cell_type": "code",
   "execution_count": null,
   "id": "91165719-57ec-4277-87f7-1308658e9366",
   "metadata": {
    "tags": []
   },
   "outputs": [],
   "source": [
    "import os\n",
    "os.chdir(\"../\")\n",
    "from fagfunksjoner.api import statistikkregisteret as reg"
   ]
  },
  {
   "cell_type": "code",
   "execution_count": null,
   "id": "f4735f4b-2284-4ccc-bb16-f2126d099be0",
   "metadata": {
    "tags": []
   },
   "outputs": [],
   "source": [
    "from datetime import datetime\n",
    "tid = reg.find_latest_publishing(\"vgogjen\")[\"specifics\"][\"publisering\"]['@tidspunkt']\n",
    "tid"
   ]
  },
  {
   "cell_type": "code",
   "execution_count": null,
   "id": "532b7f9c-0dc8-4cbe-b999-a3996da0a711",
   "metadata": {
    "tags": []
   },
   "outputs": [],
   "source": [
    "tid = datetime.strptime(tid[:-2], \"%Y-%m-%d %H:%M:%S\")"
   ]
  },
  {
   "cell_type": "code",
   "execution_count": null,
   "id": "bed6eacb-0cb9-4715-83ab-e6259d5173a4",
   "metadata": {
    "tags": []
   },
   "outputs": [],
   "source": [
    "datetime.now() - tid"
   ]
  },
  {
   "cell_type": "code",
   "execution_count": null,
   "id": "587b3ce0-f05e-4f20-a018-c440d72acae9",
   "metadata": {},
   "outputs": [],
   "source": []
  }
 ],
 "metadata": {
  "language_info": {
   "codemirror_mode": {
    "name": "ipython"
   },
   "file_extension": ".py",
   "mimetype": "text/x-python",
   "name": "python",
   "nbconvert_exporter": "python"
  }
 },
 "nbformat": 4,
 "nbformat_minor": 5
}
